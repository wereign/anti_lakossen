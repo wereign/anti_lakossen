{
 "cells": [
  {
   "cell_type": "markdown",
   "metadata": {},
   "source": [
    "# LAB 3\n",
    "## Virenn 20210802170"
   ]
  },
  {
   "cell_type": "markdown",
   "metadata": {},
   "source": [
    "# Knapsack Problem\n",
    "## Aim\n",
    "Solve the Fractional Knapsack problem using Greedy Algorithms in Python\n",
    "## Problem Statement\n",
    "- You are given a bag with a max weight limit\n",
    "- You are also given objects with a certain profit and a certain weight\n",
    "- The aim is to maximise the profit of the bag.\n",
    "- The total weight of the bag should be less than or equal to the capacity of the bag.\n",
    "## Explanation of Solution\n",
    "- We use the **Profit to Weight** ratio as the parameter to choose the most optimal item to insert into the bag.\n",
    "\n",
    "1. Sort the given array of items according to the Value/Weight ratio in the descending order.\n",
    "2. Start adding the items with the maximum W/V ratio to the bag.\n",
    "3. Add a whole item to the bag only if the total weight is less than the max weight\n",
    "4. If the whole item won't fit into the bag then add a portion to the bag and calculate profit accordingly.\n",
    "5. Stop either when all items are used or the max weight has been reached.\n",
    "\n",
    "## Code and Output"
   ]
  },
  {
   "cell_type": "code",
   "execution_count": 35,
   "metadata": {},
   "outputs": [
    {
     "name": "stdout",
     "output_type": "stream",
     "text": [
      "Weight: 10 Profit: 60 P/W Ratio: 6.0\n",
      "Weight: 20 Profit: 100 P/W Ratio: 5.0\n",
      "Weight: 30 Profit: 120 P/W Ratio: 4.0\n",
      "240\n",
      "\n",
      "Weight: 15 Profit: 24 P/W Ratio: 1.6\n",
      "Weight: 10 Profit: 15 P/W Ratio: 1.5\n",
      "31\n"
     ]
    }
   ],
   "source": [
    "class Object:\n",
    "    def __init__(self,profit,weight):\n",
    "        self.weight = weight\n",
    "        self.value = profit\n",
    "    def __repr__(self):\n",
    "        return f\"Weight: {self.weight} Profit: {self.value} P/W Ratio: {self.value/self.weight}\"\n",
    "\n",
    "\n",
    "\n",
    "\n",
    "\n",
    "objects = [Object(60 ,10),Object(100,20),Object(120,30)]\n",
    "objects2 = [Object(25,18),Object(24,15),Object(15,10)]\n",
    "def fractional_knapsack(W, arr):\n",
    "    arr.sort(key=lambda x:(x.value/x.weight), reverse=True)\n",
    "\n",
    "    finalvalue = 0.0\n",
    "\n",
    "    for item in arr:\n",
    "        print(item)\n",
    "        if item.weight <= W:\n",
    "            W -= item.weight\n",
    "            finalvalue += item.value\n",
    "        \n",
    "        else:\n",
    "            finalvalue += item.value * (W/item.weight)\n",
    "            break\n",
    "\n",
    "    return int(finalvalue)\n",
    "\n",
    "print(fractional_knapsack(50,objects))\n",
    "print()\n",
    "print(fractional_knapsack(20,objects2))"
   ]
  },
  {
   "cell_type": "code",
   "execution_count": null,
   "metadata": {},
   "outputs": [],
   "source": []
  }
 ],
 "metadata": {
  "kernelspec": {
   "display_name": "Python 3.8.10 64-bit",
   "language": "python",
   "name": "python3"
  },
  "language_info": {
   "codemirror_mode": {
    "name": "ipython",
    "version": 3
   },
   "file_extension": ".py",
   "mimetype": "text/x-python",
   "name": "python",
   "nbconvert_exporter": "python",
   "pygments_lexer": "ipython3",
   "version": "3.8.10"
  },
  "orig_nbformat": 4,
  "vscode": {
   "interpreter": {
    "hash": "916dbcbb3f70747c44a77c7bcd40155683ae19c65e1c03b4aa3499c5328201f1"
   }
  }
 },
 "nbformat": 4,
 "nbformat_minor": 2
}
