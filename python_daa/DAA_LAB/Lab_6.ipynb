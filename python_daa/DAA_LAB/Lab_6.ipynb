{
 "cells": [
  {
   "cell_type": "markdown",
   "metadata": {},
   "source": [
    "# Lab_6\n",
    "### Virenn Jay - 20210802170\n",
    "\n",
    "## Aim\n",
    "> To solve the N-Queen problem using the Backtracking approach and Python\n",
    "\n",
    "## Problem Statement\n",
    "> The N Queen is the problem of placing N chess queens on an N×N chessboard so that no two queens attack each other. \n",
    "\n",
    "## Explanation\n",
    "- To ensure that one queen can't attack another they should not been in the same row, column, positive diagonal and negative diagonals\n",
    "- In the brute force approach we can easily put one queen in each row.\n",
    "- For a specific positive diagonal, the sum of the row and column is always constant\n",
    "- For a specific negative diagonal, the difference between the row and the column is always constant.\n",
    "- We can maintain a set for the columns, a set for the positive diagonal  and a set for the negative diagonals.\n",
    "- If a queen is already placed in the column, positive diagonal or the negative diagonal in a previous row, then we can check that in the respective set.\n",
    "- Finally we can get all the permutations and print them out in the correct format"
   ]
  },
  {
   "cell_type": "code",
   "execution_count": 12,
   "metadata": {},
   "outputs": [
    {
     "name": "stdout",
     "output_type": "stream",
     "text": [
      "\n",
      "\n",
      "\n",
      "\n",
      "[[0, 1, 0, 0], [0, 0, 0, 1], [1, 0, 0, 0], [0, 0, 1, 0]]\n",
      "\n",
      "\n",
      "\n",
      "\n",
      "[[0, 0, 1, 0], [1, 0, 0, 0], [0, 0, 0, 1], [0, 1, 0, 0]]\n"
     ]
    }
   ],
   "source": [
    "def solve_queens(n):\n",
    "    col = set()\n",
    "    posDiag = set()\n",
    "    negDiag = set()\n",
    "\n",
    "    res = []\n",
    "    board = [[\".\"]*n for i in range(n)]\n",
    "\n",
    "\n",
    "    def backtrack(r):\n",
    "        if r==n:\n",
    "            copy = [''.join(row) for row in board]\n",
    "            res.append(copy)\n",
    "\n",
    "        \n",
    "        for c in range(n):\n",
    "\n",
    "            if c in col or (r+c) in posDiag or (r-c) in negDiag:\n",
    "                continue\n",
    "\n",
    "            col.add(c)\n",
    "            posDiag.add(r+c)\n",
    "            negDiag.add(r-c)\n",
    "            board[r][c] = 'Q'\n",
    "\n",
    "            backtrack(r+1)\n",
    "        \n",
    "\n",
    "        # Clearnup, backtracking\n",
    "            col.remove(c)\n",
    "            posDiag.remove(r+c)\n",
    "            negDiag.remove(r-c)\n",
    "            board[r][c] = '.'\n",
    "    \n",
    "    backtrack(0)\n",
    "    return res\n",
    "\n",
    "\n",
    "solutions = solve_queens(4)\n",
    "\n",
    "def format_matrix(matrix):\n",
    "    ret_matrix = []\n",
    "\n",
    "    for row in matrix:\n",
    "        print()\n",
    "        col = []\n",
    "        for column in row:\n",
    "\n",
    "            if column == '.':\n",
    "                col.append(0)\n",
    "            else:\n",
    "                col.append(1)\n",
    "        ret_matrix.append(col)\n",
    "    return ret_matrix\n",
    "\n",
    "for solution in solutions:\n",
    "    print(format_matrix(solution))\n",
    "\n",
    "\n",
    "\n",
    "\n"
   ]
  }
 ],
 "metadata": {
  "kernelspec": {
   "display_name": "Python 3.8.10 64-bit",
   "language": "python",
   "name": "python3"
  },
  "language_info": {
   "codemirror_mode": {
    "name": "ipython",
    "version": 3
   },
   "file_extension": ".py",
   "mimetype": "text/x-python",
   "name": "python",
   "nbconvert_exporter": "python",
   "pygments_lexer": "ipython3",
   "version": "3.8.10"
  },
  "orig_nbformat": 4,
  "vscode": {
   "interpreter": {
    "hash": "31f2aee4e71d21fbe5cf8b01ff0e069b9275f58929596ceb00d14d90e3e16cd6"
   }
  }
 },
 "nbformat": 4,
 "nbformat_minor": 2
}
