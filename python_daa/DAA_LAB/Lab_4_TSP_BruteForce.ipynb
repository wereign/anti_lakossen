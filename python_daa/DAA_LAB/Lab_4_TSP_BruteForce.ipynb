{
 "cells": [
  {
   "cell_type": "markdown",
   "metadata": {},
   "source": [
    "# Travelling Salesman Problem\n",
    "### Virenn Jay 20210802170\n",
    "\n",
    "## AIM\n",
    "> To Solve the Travelling Salesman problem using Python using Brute Force\n",
    "## Problem Statement\n",
    "> Given a set of cities and the distance between every pair of cities, the problem is to find the shortest possible route that visits every city exactly once and returns to the starting point. \n",
    "## Explanation\n",
    "1) Consider city 1 as the starting and ending point.\n",
    "\n",
    "2) Generate all (n-1)! Permutations of cities. \n",
    "\n",
    "3) Calculate the cost of every permutation and keep track of the minimum cost permutation. \n",
    "\n",
    "4) Return the permutation with minimum cost. \n",
    "\n"
   ]
  },
  {
   "cell_type": "code",
   "execution_count": 3,
   "metadata": {},
   "outputs": [
    {
     "name": "stdout",
     "output_type": "stream",
     "text": [
      "35\n"
     ]
    }
   ],
   "source": [
    "from sys import maxsize\n",
    "from itertools import permutations\n",
    "V = 4\n",
    "\n",
    "def travellingSalesmanProblem(graph, s):\n",
    "\tvertex = []\n",
    "\tfor i in range(V):\n",
    "\t\tif i != s:\n",
    "\t\t\tvertex.append(i)\n",
    "\n",
    "\tmin_path = maxsize\n",
    "\tnext_permutation=permutations(vertex)\n",
    "\tfor i in next_permutation:\n",
    "\t\tcurrent_pathweight = 0\n",
    "\t\tk = s\n",
    "\t\tfor j in i:\n",
    "\t\t\tcurrent_pathweight += graph[k][j]\n",
    "\t\t\tk = j\n",
    "\t\tcurrent_pathweight += graph[k][s]\n",
    "\t\tmin_path = min(min_path, current_pathweight)\n",
    "\n",
    "\treturn min_path\n",
    "\n",
    "if __name__ == \"__main__\":\n",
    "\tgraph = [[0, 10, 15, 20],\n",
    "         [5, 0, 25, 10],\n",
    "         [15, 30, 0, 5],\n",
    "         [5, 10, 20, 0]]\n",
    "\ts = 0\n",
    "\tprint(travellingSalesmanProblem(graph, s))"
   ]
  }
 ],
 "metadata": {
  "kernelspec": {
   "display_name": "Python 3.11.0 64-bit",
   "language": "python",
   "name": "python3"
  },
  "language_info": {
   "codemirror_mode": {
    "name": "ipython",
    "version": 3
   },
   "file_extension": ".py",
   "mimetype": "text/x-python",
   "name": "python",
   "nbconvert_exporter": "python",
   "pygments_lexer": "ipython3",
   "version": "3.11.0"
  },
  "orig_nbformat": 4,
  "vscode": {
   "interpreter": {
    "hash": "9b9484852666e104c70d88e1c695a6fcea92c0c67b35961b29b5588c27242334"
   }
  }
 },
 "nbformat": 4,
 "nbformat_minor": 2
}
