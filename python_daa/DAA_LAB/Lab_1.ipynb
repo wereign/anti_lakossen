{
 "cells": [
  {
   "cell_type": "markdown",
   "metadata": {},
   "source": [
    "## Virenn Jay 20210802170\n",
    "\n",
    "# Lab_1"
   ]
  },
  {
   "cell_type": "markdown",
   "metadata": {},
   "source": [
    "# QUICKSORT\n",
    "## AIM\n",
    "To write a python program for Quick Sort\n",
    "\n",
    "## PROBLEM STATEMENT\n",
    "Implement Quick Sort ( a divide and conquer algorithm) using Python 3.\n",
    "\n",
    "## EXPLANATION\n",
    "- Quicksort is a Divide and Conquer algorithm.\n",
    "- It picks and element as a pivot and partitions the given array around the picked pivot.\n",
    "- In this version, the last element is always picked as the pivot\n",
    "\n",
    "###     Partition Function\n",
    "-   The partition function in quicksort is the key process.\n",
    "-   The function puts the pivot into the correct position relative to all remaining elements\n",
    "-   All elements smaller than the pivot should be before the PIVOT\n",
    "-   All elements greate than the pivot should be after the PIVOT\n",
    "\n",
    "####    Implementation\n",
    "-   Start from the leftmost element\n",
    "-   Keep track of the index of smaller or equal elements as i.\n",
    "-   While traversing, if we find a smaller element, we swap the current element with arr[i].\n",
    "-   Otherwise the current element is ignored.\n",
    "-   This function is called recursively for different indices of the array in order to completely sort the elements\n",
    "#### Time Complexity\n",
    "- Best Case = Worst Case = Average Case = O(nlogn)\n"
   ]
  },
  {
   "cell_type": "code",
   "execution_count": 13,
   "metadata": {},
   "outputs": [
    {
     "name": "stdout",
     "output_type": "stream",
     "text": [
      "[1, 5, 7, 8, 9, 10]\n"
     ]
    }
   ],
   "source": [
    "def partition(array, low, high):\n",
    "    pivot = array[high]\n",
    " \n",
    "    i = low - 1\n",
    "\n",
    "    for j in range(low, high):\n",
    "        if array[j] <= pivot:\n",
    "            i = i + 1\n",
    " \n",
    "\n",
    "            (array[i], array[j]) = (array[j], array[i])\n",
    " \n",
    "    (array[i + 1], array[high]) = (array[high], array[i + 1])\n",
    " \n",
    "    return i + 1\n",
    "\n",
    "def quick_sort(array,low, high):\n",
    "\n",
    "    if low < high:\n",
    "\n",
    "            pi = partition(array,low,high)\n",
    "            \n",
    "            quick_sort(array,low ,pi-1)\n",
    "            quick_sort(array,pi+1,high)\n",
    "    \n",
    "array = [10, 7, 8, 9, 1, 5]\n",
    "quick_sort(array,0,len(array)-1)\n",
    "print(array)"
   ]
  },
  {
   "cell_type": "markdown",
   "metadata": {},
   "source": [
    "# MERGE SORT\n",
    "## AIM \n",
    "Implement Merge Sort using Python\n",
    "## PROBLEM STATEMENT\n",
    "Implement Merge Sort (A divide and Conquer Algorithm) using Python\n",
    "## EXPLANATION\n",
    "- Merge Sort sorts the array by dividing it into smaller sub arrays and then solving them individually. Finally, sub-problems are combined to form the final solution.\n",
    "### Divide\n",
    "If q is the half-way point between p and r, then we can split the subarray A[p..r] into two arrays A[p..q] and A[q+1, r].\n",
    "### Conquer\n",
    "In the conquer step, we try to sort both the subarrays A[p..q] and A[q+1, r]. If we haven't yet reached the base case, we again divide both these subarrays and try to sort them.\n",
    "### Combine\n",
    "When the conquer step reaches the base step and we get two sorted subarrays A[p..q] and A[q+1, r] for array A[p..r], we combine the results by creating a sorted array A[p..r] from two sorted subarrays A[p..q] and A[q+1, r].\n",
    "\n",
    "### MERGE FUNCTION\n",
    "- The merge step is the solution to the simple problem of merging two sorted lists(arrays) to build one large sorted array.\n",
    "- The algorithm maintains three pointers, one for each of the two arrays and one for maintaining the current index of the final sorted array.\n",
    "\n",
    "- Has any pointer reached the end of any of the arrays?\n",
    "<br>\n",
    "    No:\n",
    "1. Compare current elements of both arrays \n",
    "<br>\n",
    "2. Copy smaller element into sorted array\n",
    "<br>\n",
    "3. Move pointer of element containing smaller element\n",
    "<br>\n",
    "    Yes:\n",
    "<br>\n",
    "1. Copy all remaining elements of non-empty array\n",
    "<br>\n",
    "\n",
    "### Analysis\n",
    "- Best\tO(n*log n)\n",
    "- Worst\tO(n*log n)\n",
    "- Average\tO(n*log n)\n",
    "- Space Complexity\tO(n)"
   ]
  },
  {
   "cell_type": "code",
   "execution_count": 14,
   "metadata": {},
   "outputs": [
    {
     "name": "stdout",
     "output_type": "stream",
     "text": [
      "Sorted array is: \n",
      "[1, 5, 6, 9, 10, 12]\n"
     ]
    }
   ],
   "source": [
    "def mergeSort(array):\n",
    "    if len(array) > 1:\n",
    "\n",
    "        #  r is the point where the array is divided into two subarrays\n",
    "        r = len(array)//2\n",
    "        L = array[:r]\n",
    "        M = array[r:]\n",
    "\n",
    "        # Sort the two halves\n",
    "        mergeSort(L)\n",
    "        mergeSort(M)\n",
    "\n",
    "        i = j = k = 0\n",
    "\n",
    "        # Until we reach either end of either L or M, pick larger among\n",
    "        # elements L and M and place them in the correct position at A[p..r]\n",
    "        while i < len(L) and j < len(M):\n",
    "            if L[i] < M[j]:\n",
    "                array[k] = L[i]\n",
    "                i += 1\n",
    "            else:\n",
    "                array[k] = M[j]\n",
    "                j += 1\n",
    "            k += 1\n",
    "\n",
    "        # When we run out of elements in either L or M,\n",
    "        # pick up the remaining elements and put in A[p..r]\n",
    "        while i < len(L):\n",
    "            array[k] = L[i]\n",
    "            i += 1\n",
    "            k += 1\n",
    "\n",
    "        while j < len(M):\n",
    "            array[k] = M[j]\n",
    "            j += 1\n",
    "            k += 1\n",
    "\n",
    "\n",
    "\n",
    "\n",
    "\n",
    "array = [6, 5, 12, 10, 9, 1]\n",
    "\n",
    "mergeSort(array)\n",
    "\n",
    "print(\"Sorted array is: \")\n",
    "print(array)\n"
   ]
  }
 ],
 "metadata": {
  "kernelspec": {
   "display_name": "Python 3.8.10 64-bit",
   "language": "python",
   "name": "python3"
  },
  "language_info": {
   "codemirror_mode": {
    "name": "ipython",
    "version": 3
   },
   "file_extension": ".py",
   "mimetype": "text/x-python",
   "name": "python",
   "nbconvert_exporter": "python",
   "pygments_lexer": "ipython3",
   "version": "3.8.10"
  },
  "orig_nbformat": 4,
  "vscode": {
   "interpreter": {
    "hash": "916dbcbb3f70747c44a77c7bcd40155683ae19c65e1c03b4aa3499c5328201f1"
   }
  }
 },
 "nbformat": 4,
 "nbformat_minor": 2
}
