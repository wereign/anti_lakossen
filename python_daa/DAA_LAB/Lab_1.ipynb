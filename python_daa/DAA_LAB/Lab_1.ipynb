{
 "cells": [
  {
   "cell_type": "markdown",
   "metadata": {},
   "source": [
    "Aim\n",
    "Problem Statement\n",
    "Explanation\n",
    "Code \n",
    "Screenshots"
   ]
  },
  {
   "cell_type": "markdown",
   "metadata": {},
   "source": [
    "\n",
    "## AIM\n",
    "To write a python program for Quick Sort\n",
    "\n",
    "## PROBLEM STATEMENT\n",
    "Implement Quick Sort ( a divide and conquer algorithm) using Python 3.\n",
    "\n",
    "## EXPLANATION\n",
    "- Quicksort is a Divide and Conquer algorithm.\n",
    "- It picks and element as a pivot and partitions the given array around the picked pivot.\n",
    "- In this version, the last element is always picked as the pivot\n",
    "\n",
    "###     Partition Function\n",
    "-   The partition function in quicksort is the key process.\n",
    "-   The function puts the pivot into the correct position relative to all remaining elements\n",
    "-   All elements smaller than the pivot should be before the PIVOT\n",
    "-   All elements greate than the pivot should be after the PIVOT\n",
    "\n",
    "####    Implementation\n",
    "-   Start from the leftmost element\n",
    "-   Keep track of the index of smaller or equal elements as i.\n",
    "-   While traversing, if we find a smaller element, we swap the current element with arr[i].\n",
    "-   Otherwise the current element is ignored.\n",
    "-   This function is called recursively for different indices of the array in order to completely sort the elements"
   ]
  },
  {
   "cell_type": "markdown",
   "metadata": {},
   "source": [
    "Q"
   ]
  }
 ],
 "metadata": {
  "language_info": {
   "name": "python"
  },
  "orig_nbformat": 4
 },
 "nbformat": 4,
 "nbformat_minor": 2
}
