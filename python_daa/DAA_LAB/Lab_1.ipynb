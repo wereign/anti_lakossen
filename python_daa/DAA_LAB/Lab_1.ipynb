{
 "cells": [
  {
   "cell_type": "markdown",
   "metadata": {},
   "source": [
    "Aim\n",
    "Problem Statement\n",
    "Explanation\n",
    "Code \n",
    "Screenshots"
   ]
  },
  {
   "cell_type": "markdown",
   "metadata": {},
   "source": [
    "\n",
    "## AIM\n",
    "To write a python program for Quick Sort\n",
    "\n",
    "## PROBLEM STATEMENT\n",
    "Implement Quick Sort ( a divide and conquer algorithm) using Python 3.\n",
    "\n",
    "## EXPLANATION\n",
    "- Quicksort is a Divide and Conquer algorithm.\n",
    "- It picks and element as a pivot and partitions the given array around the picked pivot.\n",
    "- In this version, the last element is always picked as the pivot\n",
    "\n",
    "###     Partition Function\n",
    "-   The partition function in quicksort is the key process.\n",
    "-   The function puts the pivot into the correct position relative to all remaining elements\n",
    "-   All elements smaller than the pivot should be before the PIVOT\n",
    "-   All elements greate than the pivot should be after the PIVOT\n",
    "\n",
    "####    Implementation\n",
    "-   Start from the leftmost element\n",
    "-   Keep track of the index of smaller or equal elements as i.\n",
    "-   While traversing, if we find a smaller element, we swap the current element with arr[i].\n",
    "-   Otherwise the current element is ignored.\n",
    "-   This function is called recursively for different indices of the array in order to completely sort the elements\n",
    "#### Time Complexity\n",
    "- Best Case = Worst Case = Average Case = O(nlogn)\n"
   ]
  },
  {
   "cell_type": "code",
   "execution_count": 10,
   "metadata": {},
   "outputs": [
    {
     "name": "stdout",
     "output_type": "stream",
     "text": [
      "[1, 5, 7, 8, 9, 10]\n"
     ]
    }
   ],
   "source": [
    "def partition(array, low, high):\n",
    " \n",
    "    # Choose the rightmost element as pivot\n",
    "    pivot = array[high]\n",
    " \n",
    "    # Pointer for greater element\n",
    "    i = low - 1\n",
    " \n",
    "    # Traverse through all elements\n",
    "    # compare each element with pivot\n",
    "    for j in range(low, high):\n",
    "        if array[j] <= pivot:\n",
    "            # If element smaller than pivot is found\n",
    "            # swap it with the greater element pointed by i\n",
    "            i = i + 1\n",
    " \n",
    "            # Swapping element at i with element at j\n",
    "            (array[i], array[j]) = (array[j], array[i])\n",
    " \n",
    "    # Swap the pivot element with\n",
    "    # e greater element specified by i\n",
    "    (array[i + 1], array[high]) = (array[high], array[i + 1])\n",
    " \n",
    "    # Return the position from where partition is done\n",
    "    return i + 1\n",
    "\n",
    "def quick_sort(array,low, high):\n",
    "\n",
    "    if low < high:\n",
    "\n",
    "            pi = partition(array,low,high)\n",
    "            \n",
    "            quick_sort(array,low ,pi-1)\n",
    "            quick_sort(array,pi+1,high)\n",
    "    \n",
    "array = [10, 7, 8, 9, 1, 5]\n",
    "quick_sort(array,0,len(array)-1)\n",
    "print(array)"
   ]
  },
  {
   "cell_type": "code",
   "execution_count": null,
   "metadata": {},
   "outputs": [],
   "source": []
  }
 ],
 "metadata": {
  "kernelspec": {
   "display_name": "Python 3.8.10 64-bit",
   "language": "python",
   "name": "python3"
  },
  "language_info": {
   "codemirror_mode": {
    "name": "ipython",
    "version": 3
   },
   "file_extension": ".py",
   "mimetype": "text/x-python",
   "name": "python",
   "nbconvert_exporter": "python",
   "pygments_lexer": "ipython3",
   "version": "3.8.10"
  },
  "orig_nbformat": 4,
  "vscode": {
   "interpreter": {
    "hash": "916dbcbb3f70747c44a77c7bcd40155683ae19c65e1c03b4aa3499c5328201f1"
   }
  }
 },
 "nbformat": 4,
 "nbformat_minor": 2
}
