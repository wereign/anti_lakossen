{
 "cells": [
  {
   "cell_type": "markdown",
   "metadata": {},
   "source": [
    "# LAB 2\n",
    "## Virenn 20210802170"
   ]
  },
  {
   "cell_type": "markdown",
   "metadata": {},
   "source": [
    "# Towers of Hanoi\n",
    "## Aim\n",
    "Solve the Tower of Hanoi Problem using Divide and Conquer using Python\n",
    "## Problem Statement\n",
    "- The Tower of Hanoi is a mathematical problem with 3 Towers A, B, C.\n",
    "- The first Tower has \"N\" discs arranged in ascending order from top to bottom\n",
    "- The objective is to move the \"N\" discs to the 3rd Tower, C while following certain rules\n",
    "- RULE 1: Only one disk can be moved at a time\n",
    "- RULE 2: Only the top disk can be moved from a tower\n",
    "- RULE 3: No disk can be placed on top of a smaller disk\n",
    "## Explanation\n",
    "- For \"N\" disks, the solution is to recursively solve the problem for \"N-1\" disks.\n",
    "- This can be done by shifting the \"N-1\" disks from \"A\" to \"B\" using C.\n",
    "- Then shift the last disk from \"A\" to \"C\"\n",
    "- Then shift the last disk from \"B\" to \"C\" using A as the auxillary tower.\n",
    "<br>\n",
    "<br>\n",
    "<img src=\"https://media.geeksforgeeks.org/wp-content/uploads/tower-of-hanoi.png\">\n",
    "## Code and Output"
   ]
  },
  {
   "cell_type": "code",
   "execution_count": 2,
   "metadata": {},
   "outputs": [
    {
     "name": "stdout",
     "output_type": "stream",
     "text": [
      "Move disk 1 from ROD A to ROD C\n",
      "Move disk 2 from ROD A to ROD B\n",
      "Move disk 1 from ROD C to ROD B\n",
      "Move disk 3 from ROD A to ROD C\n",
      "Move disk 1 from ROD B to ROD A\n",
      "Move disk 2 from ROD B to ROD C\n",
      "Move disk 1 from ROD A to ROD C\n"
     ]
    }
   ],
   "source": [
    "def TowerOfHanoi(n,from_rod,to_rod,aux_rod):\n",
    "    if n==0:\n",
    "        return\n",
    "    TowerOfHanoi(n-1,from_rod,aux_rod,to_rod)\n",
    "    print(f\"Move disk {n} from ROD {from_rod} to ROD {to_rod}\")\n",
    "    TowerOfHanoi(n-1,aux_rod,to_rod,from_rod)\n",
    "\n",
    "N = 3\n",
    "TowerOfHanoi(N,\"A\",\"C\",\"B\")  "
   ]
  },
  {
   "cell_type": "markdown",
   "metadata": {},
   "source": [
    "# Matrix Multiplication\n",
    "## Aim\n",
    "To Multiply Matrices using Divide and Conquer in Python\n",
    "## Problem Statement\n",
    "You are given 2 Square Matrices. Use the Divide and Conquer Approach to find out the Dot Product of the two matrices using Python.\n",
    "## Explanation\n",
    "- The following explanation is the iterative method\n",
    "- There will be three \"for\" loops.\n",
    "- The first \"for\" loop will select the row in the first matrix.\n",
    "- The second \"for\" loop will select the column in the second matrix\n",
    "- The third \"for\" loop will select the element in the selected row in the first matrix and in the selected column in the second matrix.\n",
    "- This allows the calculation of each element of the product matrix\n",
    "<br>\n",
    "<br>\n",
    "<img src=\"data:image/png;base64,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\">\n",
    "\n",
    "## Code and Output"
   ]
  },
  {
   "cell_type": "code",
   "execution_count": 9,
   "metadata": {},
   "outputs": [
    {
     "name": "stdout",
     "output_type": "stream",
     "text": [
      "Product 1: \n",
      "1 2 3 \n",
      "3 4 5 \n",
      "6 7 8 \n",
      "\n",
      "Product 2: \n",
      "378 381 286 224 \n",
      "258 237 190 140 \n",
      "370 497 346 277 \n",
      "223 251 266 129 \n"
     ]
    }
   ],
   "source": [
    "def multiply(mat1,mat2):\n",
    "    # Not checking for errors in this function\n",
    "    order = len(mat1)\n",
    "    product = [[0 for i in range(order)] for j in range(order)]\n",
    "    for row_selector in range(order):\n",
    "        for column_selector in range(order):\n",
    "            for element in range(order):\n",
    "                product[row_selector][column_selector] += mat1[row_selector][element]*mat2[element][column_selector]\n",
    "    \n",
    "    return product\n",
    "def print_matrix(matrix):\n",
    "    for row in matrix:\n",
    "        for element in row:\n",
    "            print(element,end=\" \")\n",
    "        print()\n",
    "\n",
    "A = [[1,2,3],[3,4,5],[6,7,8]]\n",
    "B = [[1,0,0],[0,1,0],[0,0,1]]\n",
    "print(\"Product 1: \")\n",
    "print_matrix(multiply(A,B))\n",
    "print()\n",
    "C =[[7,14,15,6],\n",
    "    [4,8,12,3],\n",
    "    [14,21,6,9],\n",
    "    [13,7,6,4]]\n",
    "\n",
    "D = [[5,7,14,2],\n",
    "    [8,16,4,9],\n",
    "    [13,6,8,4],\n",
    "    [6,3,2,4]]\n",
    "print(\"Product 2: \")\n",
    "print_matrix(multiply(C,D))\n",
    "\n",
    "                "
   ]
  }
 ],
 "metadata": {
  "kernelspec": {
   "display_name": "Python 3.11.0 64-bit",
   "language": "python",
   "name": "python3"
  },
  "language_info": {
   "codemirror_mode": {
    "name": "ipython",
    "version": 3
   },
   "file_extension": ".py",
   "mimetype": "text/x-python",
   "name": "python",
   "nbconvert_exporter": "python",
   "pygments_lexer": "ipython3",
   "version": "3.11.0"
  },
  "orig_nbformat": 4,
  "vscode": {
   "interpreter": {
    "hash": "9b9484852666e104c70d88e1c695a6fcea92c0c67b35961b29b5588c27242334"
   }
  }
 },
 "nbformat": 4,
 "nbformat_minor": 2
}
