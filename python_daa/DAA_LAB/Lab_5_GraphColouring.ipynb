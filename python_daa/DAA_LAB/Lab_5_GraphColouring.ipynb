{
 "cells": [
  {
   "cell_type": "markdown",
   "metadata": {},
   "source": [
    "# Lab-5\n",
    "### Virenn Jay-20210802170\n",
    "### Batch A3\n",
    "\n",
    "## Aim \n",
    "> To solve the Graph colored_verticesed_verticesing problem in Python using brute force.\n",
    "## Problem Statement\n",
    "> We are given an undirected graph and m number of different colored_verticess. We have to check if we can assign colored_verticess to the vertices of the graphs in such a way that no two adjacent vertices have the same colored_vertices.\n",
    "\n",
    "Adjacent Vertices - If two vertices are connected by an edge, they are adjacent\n",
    "\n",
    "## Solution Explanation\n",
    "Following the brute force approach involves executing the first steps\n",
    "- Generate all possible combinations of colored_verticess on the vertices\n",
    "- After generating the configuration, check if any adjacent vertices have the same colored_vertices or not.\n",
    "- If they do have the same colored_vertices, skip the combination.\n",
    "- If they donot have the same colored_vertices, the return the combination and break the loop.\n",
    "- "
   ]
  },
  {
   "cell_type": "code",
   "execution_count": 1,
   "metadata": {},
   "outputs": [
    {
     "name": "stdout",
     "output_type": "stream",
     "text": [
      "Vertex 1: colored_vertices 1\n",
      "Vertex 2: colored_vertices 2\n",
      "Vertex 3: colored_vertices 3\n",
      "Vertex 4: colored_vertices 2\n"
     ]
    }
   ],
   "source": [
    "def safe(graph,num_vertices,colored_vertices):\n",
    "\n",
    "    \"\"\"\n",
    "    This function checks if the graph is still safe \n",
    "    i.e, no two adjacent vertices have the same color\n",
    "    \"\"\"\n",
    "\n",
    "    for i in range(num_vertices):\n",
    "        for j in range(i+1,num_vertices):\n",
    "            if (graph[i][j] and colored_vertices[j] == colored_vertices[i]):\n",
    "                return False\n",
    "    \n",
    "    return True\n",
    "\n",
    "def colour_graph(graph,num_vertices,number_of_colors,colored_vertices,vertex=0):\n",
    "\n",
    "    \"\"\"\n",
    "    This function use brute force and backtracking\n",
    "    to find a solution\n",
    "    \"\"\"\n",
    "    if (vertex==num_vertices): \n",
    "\n",
    "        # When all the vertices except for the last one have been checked.\n",
    "        # If the last vertice fails the test, then there is no valid solution.\n",
    "        # If if passes the test, then the combination is a valid solution\n",
    "        if (safe(graph,num_vertices,colored_vertices)):\n",
    "            format_solution(colored_vertices)\n",
    "            return True\n",
    "        \n",
    "        return False # If after coloring the last node, the combination is not valid, then that combination is not a solution.\n",
    "    \n",
    "    for color in range(1,number_of_colors+1): \n",
    "        # For the vertex mentioned in the argument\n",
    "        # Try all the colors possible\n",
    "        colored_vertices[vertex] = color\n",
    "\n",
    "        color_next_node = colour_graph(graph,num_vertices, number_of_colors,colored_vertices,vertex=vertex+1)\n",
    "        # Coloring the next node and checking if it's safe\n",
    "\n",
    "        # Check if the graph is still valid according to our conditions.\n",
    "        if color_next_node :\n",
    "            return True\n",
    "        colored_vertices[vertex] = 0 # If the next node wasn't a solution , then reset to 0 and try next color.\n",
    "    \n",
    "    return False # when there is no solution at all.\n",
    "\n",
    "def format_solution(colored_verticess):\n",
    "    \"\"\"\n",
    "    Simple Function to Format the Solution\n",
    "    \"\"\"\n",
    "\n",
    "    for i,colored_vertices in enumerate(colored_verticess):\n",
    "        print(f\"Vertex {i+1}: colored_vertices {colored_vertices}\")\n",
    "\n",
    "\n",
    "m = 3 # Number of colours\n",
    "graph = [\n",
    "        [0, 1, 1, 1],\n",
    "        [1, 0, 1, 0],\n",
    "        [1, 1, 0, 1],\n",
    "        [1, 0, 1, 0],\n",
    "    ]\n",
    "\n",
    "colored_vertices = [0 for i in range(4)]\n",
    "\n",
    "\n",
    "if (not colour_graph(graph,4, m, colored_vertices)):\n",
    "        print(\"Solution does not exist\")\n",
    "\n",
    "\n",
    "\n",
    "\n",
    "\n",
    "\n",
    "\n",
    "\n"
   ]
  },
  {
   "cell_type": "code",
   "execution_count": null,
   "metadata": {},
   "outputs": [],
   "source": []
  }
 ],
 "metadata": {
  "kernelspec": {
   "display_name": "Python 3.11.0 64-bit",
   "language": "python",
   "name": "python3"
  },
  "language_info": {
   "codemirror_mode": {
    "name": "ipython",
    "version": 3
   },
   "file_extension": ".py",
   "mimetype": "text/x-python",
   "name": "python",
   "nbconvert_exporter": "python",
   "pygments_lexer": "ipython3",
   "version": "3.11.0"
  },
  "orig_nbformat": 4,
  "vscode": {
   "interpreter": {
    "hash": "9b9484852666e104c70d88e1c695a6fcea92c0c67b35961b29b5588c27242334"
   }
  }
 },
 "nbformat": 4,
 "nbformat_minor": 2
}
