{
 "cells": [
  {
   "cell_type": "markdown",
   "metadata": {},
   "source": [
    "# Travelling Salesman Problem\n",
    "## Virenn Jay 20210802170\n",
    "\n",
    "[0, 10, 15, 20]\n",
    "[5, 0, 25, 10]\n",
    "[15, 30, 0, 5]\n",
    "[5, 10, 20, 0]\n",
    "\n",
    "we are provided a list of paths and nodes and a starting point.\n",
    "We ignore the starting point in the list of nodes and recall the function for the remaining nodes with the remaining nodes as the starting point.\n",
    "We continue doing this"
   ]
  },
  {
   "cell_type": "code",
   "execution_count": null,
   "metadata": {},
   "outputs": [],
   "source": [
    "paths = [[0, 10, 15, 20]\n",
    "         [5, 0, 25, 10]\n",
    "         [15, 30, 0, 5]\n",
    "         [5, 10, 20, 0]]\n",
    "nodes = [range(0,5)]\n",
    "\n",
    "def distance(from_node,to_node):\n",
    "    return paths[from_node][to_node]\n",
    "\n",
    "def find_optimal()\n"
   ]
  },
  {
   "cell_type": "code",
   "execution_count": 2,
   "metadata": {},
   "outputs": [
    {
     "name": "stdout",
     "output_type": "stream",
     "text": [
      "35\n"
     ]
    }
   ],
   "source": [
    "from sys import maxsize\n",
    "from itertools import permutations\n",
    "V = 4\n",
    "\n",
    "def travellingSalesmanProblem(graph, s):\n",
    "\tvertex = []\n",
    "\tfor i in range(V):\n",
    "\t\tif i != s:\n",
    "\t\t\tvertex.append(i)\n",
    "\n",
    "\tmin_path = maxsize\n",
    "\tnext_permutation=permutations(vertex)\n",
    "\tfor i in next_permutation:\n",
    "\t\tcurrent_pathweight = 0\n",
    "\t\tk = s\n",
    "\t\tfor j in i:\n",
    "\t\t\tcurrent_pathweight += graph[k][j]\n",
    "\t\t\tk = j\n",
    "\t\tcurrent_pathweight += graph[k][s]\n",
    "\t\tmin_path = min(min_path, current_pathweight)\n",
    "\n",
    "\treturn min_path\n",
    "\n",
    "if __name__ == \"__main__\":\n",
    "\tgraph = [[0, 10, 15, 20],\n",
    "         [5, 0, 25, 10],\n",
    "         [15, 30, 0, 5],\n",
    "         [5, 10, 20, 0]]\n",
    "\ts = 0\n",
    "\tprint(travellingSalesmanProblem(graph, s))"
   ]
  },
  {
   "cell_type": "code",
   "execution_count": null,
   "metadata": {},
   "outputs": [],
   "source": []
  }
 ],
 "metadata": {
  "kernelspec": {
   "display_name": "Python 3.8.10 64-bit",
   "language": "python",
   "name": "python3"
  },
  "language_info": {
   "codemirror_mode": {
    "name": "ipython",
    "version": 3
   },
   "file_extension": ".py",
   "mimetype": "text/x-python",
   "name": "python",
   "nbconvert_exporter": "python",
   "pygments_lexer": "ipython3",
   "version": "3.8.10"
  },
  "orig_nbformat": 4,
  "vscode": {
   "interpreter": {
    "hash": "916dbcbb3f70747c44a77c7bcd40155683ae19c65e1c03b4aa3499c5328201f1"
   }
  }
 },
 "nbformat": 4,
 "nbformat_minor": 2
}
