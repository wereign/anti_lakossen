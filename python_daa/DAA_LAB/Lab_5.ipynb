{
 "cells": [
  {
   "cell_type": "markdown",
   "metadata": {},
   "source": [
    "# Lab-5\n",
    "### Virenn Jay-20210802170\n",
    "### Batch A3\n",
    "\n",
    "## Aim \n",
    "> To solve the Graph coloring problem in Python using brute force.\n",
    "## Problem Statement\n",
    "> We are given an undirected graph and m number of different colors. We have to check if we can assign colors to the vertices of the graphs in such a way that no two adjacent vertices have the same color.\n",
    "\n",
    "Adjacent Vertices - If two vertices are connected by an edge, they are adjacent\n",
    "\n",
    "## Solution Explanation\n",
    "Following the brute force approach involves executing the first steps\n",
    "- Generate all possible combinations of colors on the vertices\n",
    "- After generating the configuration, check if any adjacent vertices have the same color or not.\n",
    "- If they do have the same color, skip the combination.\n",
    "- If they donot have the same color, the return the combination and break the loop.\n",
    "- "
   ]
  },
  {
   "cell_type": "code",
   "execution_count": 7,
   "metadata": {},
   "outputs": [
    {
     "name": "stdout",
     "output_type": "stream",
     "text": [
      "Vertex 1: Color 1\n",
      "Vertex 2: Color 2\n",
      "Vertex 3: Color 3\n",
      "Vertex 4: Color 2\n"
     ]
    }
   ],
   "source": [
    "def safe(graph,num_vertices,color):\n",
    "\n",
    "    \"\"\"\n",
    "    This function checks if the graph is still safe \n",
    "    i.e, no two adjacent vertices have the same color\n",
    "    \"\"\"\n",
    "\n",
    "    for i in range(num_vertices):\n",
    "        for j in range(i+1,num_vertices):\n",
    "            if (graph[i][j] and color[j] == color[i]):\n",
    "                return False\n",
    "    \n",
    "    return True\n",
    "\n",
    "def colour_graph(graph,num_vertices,m,color,i=0):\n",
    "\n",
    "    \"\"\"\n",
    "    This function use brute force and backtracking\n",
    "    to find a solution\n",
    "    \"\"\"\n",
    "    if (i==num_vertices): \n",
    "\n",
    "        # When all the vertices except for the last one have been checked.\n",
    "        # If the last vertice fails the test, then there is no valid solution.\n",
    "        # If if passes the test, then the combination is a valid solution\n",
    "        if (safe(graph,num_vertices,color)):\n",
    "            format_solution(color)\n",
    "            return True\n",
    "        \n",
    "        return False\n",
    "    \n",
    "    for j in range(1,m+1):\n",
    "        color[i] = j\n",
    "\n",
    "        if colour_graph(graph,num_vertices, m,color,i=i+1):\n",
    "            return True\n",
    "        color[i] = 0\n",
    "    \n",
    "    return False\n",
    "\n",
    "def format_solution(colors):\n",
    "    \"\"\"\n",
    "    Simple Function to Format the Solution\n",
    "    \"\"\"\n",
    "\n",
    "    for i,color in enumerate(colors):\n",
    "        print(f\"Vertex {i+1}: Color {color}\")\n",
    "\n",
    "\n",
    "m = 3 # Number of colours\n",
    "graph = [\n",
    "        [0, 1, 1, 1],\n",
    "        [1, 0, 1, 0],\n",
    "        [1, 1, 0, 1],\n",
    "        [1, 0, 1, 0],\n",
    "    ]\n",
    "\n",
    "color = [0 for i in range(4)]\n",
    "\n",
    "\n",
    "if (not colour_graph(graph,4, m, color)):\n",
    "        print(\"Solution does not exist\")\n",
    "\n",
    "\n",
    "\n",
    "\n",
    "\n",
    "\n",
    "\n",
    "\n"
   ]
  }
 ],
 "metadata": {
  "kernelspec": {
   "display_name": "Python 3.8.10 64-bit",
   "language": "python",
   "name": "python3"
  },
  "language_info": {
   "codemirror_mode": {
    "name": "ipython",
    "version": 3
   },
   "file_extension": ".py",
   "mimetype": "text/x-python",
   "name": "python",
   "nbconvert_exporter": "python",
   "pygments_lexer": "ipython3",
   "version": "3.8.10"
  },
  "orig_nbformat": 4,
  "vscode": {
   "interpreter": {
    "hash": "31f2aee4e71d21fbe5cf8b01ff0e069b9275f58929596ceb00d14d90e3e16cd6"
   }
  }
 },
 "nbformat": 4,
 "nbformat_minor": 2
}
