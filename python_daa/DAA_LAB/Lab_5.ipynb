{
 "cells": [
  {
   "cell_type": "markdown",
   "metadata": {},
   "source": [
    "# Lab-5\n",
    "### Virenn Jay-20210802170\n",
    "### Batch A3\n",
    "\n",
    "## Aim \n",
    "> To solve the Graph coloring problem in Python using brute force.\n",
    "## Problem Statement\n",
    "> We are given an undirected graph and m number of different colors. We have to check if we can assign colors to the vertices of the graphs in such a way that no two adjacent vertices have the same color.\n",
    "\n",
    "Adjacent Vertices - If two vertices are connected by an edge, they are adjacent\n",
    "\n",
    "## Solution Explanation\n",
    "Following the brute force approach involves executing the first steps\n",
    "- Generate all possible combinations of colors on the vertices\n",
    "- After generating the configuration, check if any adjacent vertices have the same color or not.\n",
    "- If they do have the same color, skip the combination.\n",
    "- If they donot have the same color, the return the combination and break the loop.\n",
    "- "
   ]
  },
  {
   "cell_type": "code",
   "execution_count": 3,
   "metadata": {},
   "outputs": [
    {
     "name": "stdout",
     "output_type": "stream",
     "text": [
      "1\n",
      "2\n",
      "3\n",
      "4\n",
      "1\n",
      "4\n",
      "9\n",
      "16\n"
     ]
    }
   ],
   "source": [
    "x = [1,2,3,4]\n",
    "\n",
    "saved_number = x[-1]**2\n",
    "for i in x:\n",
    "    x.append(i**2)\n",
    "    print(i)\n",
    "\n",
    "\n",
    "    if i == saved_number:\n",
    "        break"
   ]
  },
  {
   "cell_type": "code",
   "execution_count": 24,
   "metadata": {},
   "outputs": [],
   "source": [
    "from copy import deepcopy\n",
    "\n",
    "saved = [] # All the iterations completed here\n",
    "colours = ['Y','B','C']\n",
    "# colours = [] # Add color strings here\n",
    "\n",
    "def select_fully_colored(saved=saved):\n",
    "    \n",
    "    selected = []\n",
    "    for matrix in saved:\n",
    "        select = True\n",
    "        for row in range(len(matrix)):\n",
    "            for column  in range(len(matrix[0])):\n",
    "                if matrix[row][column]  not in colours:\n",
    "                    select = False\n",
    "                else:\n",
    "                    continue\n",
    "        \n",
    "        if select:\n",
    "            selected.append(matrix)\n",
    "    \n",
    "    return selected\n",
    "\n",
    "\n",
    "def colour_spot(matrix,row_point,column_point,colours=colours):\n",
    "    global saved\n",
    "\n",
    "    original_length = len(saved)  # Original length of saved list, to ensure endless loops don't occur.\n",
    "\n",
    "    if original_length == 0:  # If saved list is empty, just iterate through all colors for the original matrix itself\n",
    "        for color in colours:\n",
    "            matrix_copy = deepcopy(matrix)  # Making a copy of the matrix for each color\n",
    "            matrix_copy[row_point][column_point] = color # Coloring the graph\n",
    "            \n",
    "            saved.append(matrix_copy)\n",
    "        \n",
    "        return True\n",
    "\n",
    "\n",
    "    else:\n",
    "\n",
    "        for saved_matrix in range(original_length):\n",
    "        \n",
    "            for color in colours:\n",
    "                matrix_copy = deepcopy(saved[saved_matrix])  # Making a copy of the matrix for each color\n",
    "                matrix_copy[row_point][column_point] = color # Coloring the graph\n",
    "            \n",
    "                saved.append(matrix_copy)\n",
    "    \n",
    "    return True\n",
    "\n",
    "\n",
    "def final_filter(matrix):\n",
    "    solution = True\n",
    "    for i in range(len(matrix)):\n",
    "        for j in range(len(matrix[0])):\n",
    "            \n",
    "            if matrix[i][j] in colours and matrix[i][j] == matrix[i][j]:\n",
    "                solution = False\n",
    "            else:\n",
    "                pass\n",
    "    return solution\n",
    "\n",
    "\n",
    "matrix  = [[1,2],\n",
    "           [3,4]]\n",
    "\n",
    "\n",
    "\n",
    "\n",
    "\n",
    "\n",
    "\n"
   ]
  }
 ],
 "metadata": {
  "kernelspec": {
   "display_name": "Python 3.8.10 64-bit",
   "language": "python",
   "name": "python3"
  },
  "language_info": {
   "codemirror_mode": {
    "name": "ipython",
    "version": 3
   },
   "file_extension": ".py",
   "mimetype": "text/x-python",
   "name": "python",
   "nbconvert_exporter": "python",
   "pygments_lexer": "ipython3",
   "version": "3.8.10"
  },
  "orig_nbformat": 4,
  "vscode": {
   "interpreter": {
    "hash": "31f2aee4e71d21fbe5cf8b01ff0e069b9275f58929596ceb00d14d90e3e16cd6"
   }
  }
 },
 "nbformat": 4,
 "nbformat_minor": 2
}
