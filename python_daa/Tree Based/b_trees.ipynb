{
 "cells": [
  {
   "cell_type": "markdown",
   "metadata": {},
   "source": [
    "# B-tree\n",
    "A special type of **self balancing search** tree in which node can contain **more than one key** and can have **more than 2 children**"
   ]
  },
  {
   "cell_type": "markdown",
   "metadata": {},
   "source": [
    "## Properties of B-Tree\n",
    "- For any node, the keys are stored in an increasing order\n",
    "- In each node, there is a boolean value x.leaf, indicating if \"X\" is  a leaf or not.\n",
    "- If \"n\" is the order of the tree, each internal node\n",
    "    - have at most **n-1 keys**, with a pointer to each child\n",
    "- Each node can \n",
    "    - have a  **min of n/2 nodes**.\n",
    "    - have a  **max of n nodes**.\n",
    "- All leaves have the same depth.\n",
    "- The root has atleast 2 children and contains a minimum of 1 key.\n",
    "    "
   ]
  },
  {
   "cell_type": "markdown",
   "metadata": {},
   "source": [
    "## Operations\n",
    "\n",
    "###     Searching for an element in a B-tree\n"
   ]
  },
  {
   "cell_type": "code",
   "execution_count": 10,
   "metadata": {},
   "outputs": [
    {
     "name": "stdout",
     "output_type": "stream",
     "text": [
      "Level  0   2:(2, 4) (5, 10) \n",
      "Level  1   2:(0, 0) (1, 2) \n",
      "Level  1   2:(3, 6) (4, 8) \n",
      "Level  1   4:(6, 12) (7, 14) (8, 16) (9, 18) \n",
      "\n",
      "Found\n"
     ]
    }
   ],
   "source": [
    "# Searching a key on a B-tree in Python\n",
    "\n",
    "\n",
    "# Create a node\n",
    "class BTreeNode:\n",
    "  def __init__(self, leaf=False):\n",
    "    self.leaf = leaf\n",
    "    self.keys = []\n",
    "    self.child = []\n",
    "\n",
    "\n",
    "# Tree\n",
    "class BTree:\n",
    "  def __init__(self, t):\n",
    "    self.root = BTreeNode(True)\n",
    "    self.t = t\n",
    "\n",
    "    # Insert node\n",
    "  def insert(self, k):\n",
    "    root = self.root\n",
    "    if len(root.keys) == (2 * self.t) - 1:\n",
    "      temp = BTreeNode()\n",
    "      self.root = temp\n",
    "      temp.child.insert(0, root)\n",
    "      self.split_child(temp, 0)\n",
    "      self.insert_non_full(temp, k)\n",
    "    else:\n",
    "      self.insert_non_full(root, k)\n",
    "\n",
    "    # Insert nonfull\n",
    "  def insert_non_full(self, x, k):\n",
    "    i = len(x.keys) - 1\n",
    "    if x.leaf:\n",
    "      x.keys.append((None, None))\n",
    "      while i >= 0 and k[0] < x.keys[i][0]:\n",
    "        x.keys[i + 1] = x.keys[i]\n",
    "        i -= 1\n",
    "      x.keys[i + 1] = k\n",
    "    else:\n",
    "      while i >= 0 and k[0] < x.keys[i][0]:\n",
    "        i -= 1\n",
    "      i += 1\n",
    "      if len(x.child[i].keys) == (2 * self.t) - 1:\n",
    "        self.split_child(x, i)\n",
    "        if k[0] > x.keys[i][0]:\n",
    "          i += 1\n",
    "      self.insert_non_full(x.child[i], k)\n",
    "\n",
    "    # Split the child\n",
    "  def split_child(self, x, i):\n",
    "    t = self.t\n",
    "    y = x.child[i]\n",
    "    z = BTreeNode(y.leaf)\n",
    "    x.child.insert(i + 1, z)\n",
    "    x.keys.insert(i, y.keys[t - 1])\n",
    "    z.keys = y.keys[t: (2 * t) - 1]\n",
    "    y.keys = y.keys[0: t - 1]\n",
    "    if not y.leaf:\n",
    "      z.child = y.child[t: 2 * t]\n",
    "      y.child = y.child[0: t - 1]\n",
    "\n",
    "  # Print the tree\n",
    "  def print_tree(self, x, l=0):\n",
    "    print(\"Level \", l, \" \", len(x.keys), end=\":\")\n",
    "    for i in x.keys:\n",
    "      print(i, end=\" \")\n",
    "    print()\n",
    "    l += 1\n",
    "    if len(x.child) > 0:\n",
    "      for i in x.child:\n",
    "        self.print_tree(i, l)\n",
    "\n",
    "  # Search key in the tree\n",
    "  def search_key(self, k, x=None):\n",
    "    if x is not None:\n",
    "      i = 0\n",
    "      while i < len(x.keys) and k > x.keys[i][0]:\n",
    "        i += 1\n",
    "      if i < len(x.keys) and k == x.keys[i][0]:\n",
    "        return (x, i)\n",
    "      elif x.leaf:\n",
    "        return None\n",
    "      else:\n",
    "        # print(k,x.child[i])\n",
    "        return self.search_key(k, x.child[i])\n",
    "      \n",
    "    else:\n",
    "      return self.search_key(k, self.root)\n",
    "\n",
    "\n",
    "def main():\n",
    "  B = BTree(3)\n",
    "\n",
    "  for i in range(10):\n",
    "    B.insert((i, 2 * i))\n",
    "\n",
    "  B.print_tree(B.root)\n",
    "\n",
    "  if B.search_key(8) is not None:\n",
    "    print(\"\\nFound\")\n",
    "  else:\n",
    "    print(\"\\nNot Found\")\n",
    "\n",
    "\n",
    "if __name__ == '__main__':\n",
    "  main()"
   ]
  },
  {
   "cell_type": "code",
   "execution_count": null,
   "metadata": {},
   "outputs": [],
   "source": []
  },
  {
   "cell_type": "code",
   "execution_count": null,
   "metadata": {},
   "outputs": [],
   "source": []
  }
 ],
 "metadata": {
  "kernelspec": {
   "display_name": "Python 3.10.4 64-bit",
   "language": "python",
   "name": "python3"
  },
  "language_info": {
   "codemirror_mode": {
    "name": "ipython",
    "version": 3
   },
   "file_extension": ".py",
   "mimetype": "text/x-python",
   "name": "python",
   "nbconvert_exporter": "python",
   "pygments_lexer": "ipython3",
   "version": "3.10.4"
  },
  "orig_nbformat": 4,
  "vscode": {
   "interpreter": {
    "hash": "916dbcbb3f70747c44a77c7bcd40155683ae19c65e1c03b4aa3499c5328201f1"
   }
  }
 },
 "nbformat": 4,
 "nbformat_minor": 2
}
