{
 "cells": [
  {
   "cell_type": "markdown",
   "metadata": {},
   "source": [
    "## Traversals"
   ]
  },
  {
   "cell_type": "code",
   "execution_count": 1,
   "metadata": {},
   "outputs": [
    {
     "name": "stdout",
     "output_type": "stream",
     "text": [
      "Inorder traversal\n",
      "2-> 5-> 1-> 3-> \n",
      "Preorder Traversal\n",
      "1-> 2-> 5-> 3-> \n",
      "Postorder Traversal\n",
      "2-> 5-> 3-> 1-> "
     ]
    }
   ],
   "source": [
    "class Node:\n",
    "    def __init__(self,item) -> None:\n",
    "        self.left = None\n",
    "        self.right = None\n",
    "        self.val = item\n",
    "    \n",
    "def inorder(root):\n",
    "\n",
    "    if root:\n",
    "        #Traverse left\n",
    "        inorder(root.left)\n",
    "        #Print root\n",
    "        print(str(root.val) + \"->\",end=\" \")\n",
    "        #Traverse right\n",
    "        inorder(root.right)\n",
    "\n",
    "def postorder(root):\n",
    "\n",
    "    if root:\n",
    "        #Traverse left\n",
    "        inorder(root.left)\n",
    "        #Traverse right\n",
    "        inorder(root.right)\n",
    "        #Print root\n",
    "        print(str(root.val) + \"->\",end=\" \")\n",
    "\n",
    "def preorder(root):\n",
    "\n",
    "        #Print root\n",
    "        print(str(root.val) + \"->\",end=\" \")\n",
    "        #Traverse left\n",
    "        inorder(root.left)\n",
    "        #Traverse right\n",
    "        inorder(root.right)\n",
    "\n",
    "# defining tree\n",
    "\n",
    "root = Node(1)\n",
    "root.left = Node(2)\n",
    "root.right = Node(3)\n",
    "root.left.right = Node(4)\n",
    "root.left.right = Node(5)\n",
    "\n",
    "print(\"Inorder traversal\")\n",
    "inorder(root)\n",
    "\n",
    "print()\n",
    "print(\"Preorder Traversal\")\n",
    "preorder(root)\n",
    "\n",
    "print()\n",
    "print(\"Postorder Traversal\")\n",
    "postorder(root)"
   ]
  },
  {
   "cell_type": "markdown",
   "metadata": {},
   "source": [
    "# Binary Tree\n",
    "\n",
    "A binary tree is a tree data structure in which each parent node can have at most two children. Each node of a binary tree consists of three items:\n",
    "\n",
    "- data item\n",
    "- address of left child\n",
    "- address of right child\n",
    "\n",
    "**Full Binary Tree** - A special type of binary tree in which every parent node/internal node has either two or no children\n",
    "\n",
    "**Complete Binary Tree**\n",
    "        - Every level must be completely filled\n",
    "        - All the leaf elements must lean towards left\n",
    "        - The last leaf element might not have a right sibling i.e. a complete binary tree doesn't have to be a full binary tree\n",
    "\n",
    "**Degenerate or Pathological Tree** - A tree having a single child either left or right \n",
    "\n",
    "<img src=\"https://cdn.programiz.com/sites/tutorial2program/files/degenerate-binary-tree_0.png\" >\n",
    "\n",
    "**Skewed Binary Tree** - A tree has only right/left children\n",
    "        - Left Binary Skewed Tree\n",
    "        - Right Skewed Binary Tree\n",
    "<img src=\"https://cdn.programiz.com/sites/tutorial2program/files/skewed-binary-tree_0.png\">\n",
    "\n",
    "**Balanced Binary Tree** - Difference between the height of the left and the right subtree for each node is either 0 or 1.\n",
    "\n",
    "<img src=\"https://cdn.programiz.com/sites/tutorial2program/files/height-balanced_1.png\">\n"
   ]
  },
  {
   "cell_type": "code",
   "execution_count": 2,
   "metadata": {},
   "outputs": [
    {
     "name": "stdout",
     "output_type": "stream",
     "text": [
      "Pre Order Traversal:  1 2 4 3 \n",
      "Inorder Traversal 4 2 1 3 \n",
      "Post Order Traversal 4 2 3 1 "
     ]
    }
   ],
   "source": [
    "#Defining Binary Tree Node\n",
    "\n",
    "class Node:\n",
    "    def __init__(self,key):\n",
    "        self.left = None\n",
    "        self.right = None\n",
    "        self.val = key\n",
    "    \n",
    "    #Traverse preorder\n",
    "    def traversePreorder(self):\n",
    "        print(self.val,end=\" \")\n",
    "        if self.left:\n",
    "            self.left.traversePreorder()\n",
    "        if self.right:\n",
    "            self.right.traversePreorder()\n",
    "    \n",
    "    #Traverse postorrder\n",
    "    def traversePostorder(self):\n",
    "        if self.left:\n",
    "            self.left.traversePostorder()\n",
    "        if self.right:\n",
    "            self.right.traversePostorder()\n",
    "        print(self.val, end=\" \")\n",
    "\n",
    "    def traverseInorder(self):\n",
    "        if self.left:\n",
    "            self.left.traverseInorder()\n",
    "        \n",
    "        print(self.val,end=' ')\n",
    "        \n",
    "        if self.right:\n",
    "            self.right.traverseInorder()\n",
    "    \n",
    "root = Node(1)\n",
    "root.left = Node(2)\n",
    "root.right = Node(3)\n",
    "\n",
    "root.left.left = Node(4)\n",
    "\n",
    "print(\"Pre Order Traversal: \",end=\" \")\n",
    "root.traversePreorder()\n",
    "print()\n",
    "print(\"Inorder Traversal\",end=\" \")\n",
    "root.traverseInorder()\n",
    "print()\n",
    "print(\"Post Order Traversal\",end=\" \")\n",
    "root.traversePostorder()"
   ]
  },
  {
   "cell_type": "markdown",
   "metadata": {},
   "source": [
    "# Full Binary Tree\n",
    "\n",
    "- Number of leaves => i+1\n",
    "- Total number of node => 2i+1\n",
    "- Total number of internal nodes is (n-1)/2.\n",
    "- Number of leaves is (n+1)/2\n",
    "- Total number of nodes (2l -1)\n",
    "- Total number of internal nodes (l-1)\n",
    "- Total number of leaves is (2**(number of levels -1))\n"
   ]
  },
  {
   "cell_type": "code",
   "execution_count": 3,
   "metadata": {},
   "outputs": [
    {
     "name": "stdout",
     "output_type": "stream",
     "text": [
      "The tree is a full binary tree\n"
     ]
    }
   ],
   "source": [
    "class Node:\n",
    "    def __init__(self,item):\n",
    "        self.item = item\n",
    "        self.leftChild = None\n",
    "        self.rightChild = None\n",
    "\n",
    "def isFullTree(root):\n",
    "    #Tree empty case\n",
    "    if root is None:\n",
    "        return True\n",
    "    \n",
    "    if root.leftChild is None and root.rightChild is None:\n",
    "        return True\n",
    "    \n",
    "    if root.leftChild is not None and root.rightChild is not None:\n",
    "        return (isFullTree(root.leftChild) and isFullTree(root.rightChild))\n",
    "    \n",
    "    return False\n",
    "\n",
    "\n",
    "root = Node(1)\n",
    "root.rightChild = Node(3)\n",
    "root.leftChild = Node(2)\n",
    "\n",
    "root.leftChild.leftChild = Node(4)\n",
    "root.leftChild.rightChild = Node(5)\n",
    "root.leftChild.rightChild.leftChild = Node(6)\n",
    "root.leftChild.rightChild.rightChild = Node(7)\n",
    "\n",
    "\n",
    "if isFullTree(root):\n",
    "    print(\"The tree is a full binary tree\")\n",
    "else:\n",
    "    print(\"The tree is not a full binary tree\")\n",
    "\n",
    "\n"
   ]
  },
  {
   "cell_type": "markdown",
   "metadata": {},
   "source": [
    "# Balanced Binary Tree\n",
    "A balanced binary tree (aka height balanceed binary tree) is any tree\n",
    "in which **the height by why the left and right subtrees of any node differ by 1 or less**\n",
    "\n",
    "**Conditions**\n",
    "\n",
    "- Difference between the left and right subtree is one or zero\n",
    "- the left subtree is balanced\n",
    "- the right subtree is balanced\n",
    "    \n"
   ]
  },
  {
   "cell_type": "code",
   "execution_count": 12,
   "metadata": {},
   "outputs": [
    {
     "name": "stdout",
     "output_type": "stream",
     "text": [
      "The tree is balanced\n"
     ]
    }
   ],
   "source": [
    "class Node:\n",
    "    def __init__(self, data):\n",
    "        self.data = data\n",
    "        self.left = self.right = None\n",
    "\n",
    "class Height:\n",
    "    def __init__(self):\n",
    "        self.height = 0\n",
    "\n",
    "def isHeightBalanced(root, height):\n",
    "    left_height = Height()\n",
    "    right_height = Height()\n",
    "\n",
    "    if root is None:\n",
    "        return True\n",
    "\n",
    "    l = isHeightBalanced(root.left,left_height)\n",
    "    r = isHeightBalanced(root.right,right_height)\n",
    "\n",
    "    height.height = max(left_height.height,right_height.height) + 1\n",
    "\n",
    "    if abs(left_height.height - right_height.height) <= 1:\n",
    "        return l and r\n",
    "\n",
    "\n",
    "\n",
    "height = Height()\n",
    "\n",
    "root = Node(1)\n",
    "root.left = Node(2)\n",
    "root.right = Node(3)\n",
    "root.left.left = Node(4)\n",
    "root.left.right = Node(5)\n",
    "# root.left.right.right = Node(6)\n",
    "if isHeightBalanced(root, height):\n",
    "    print('The tree is balanced')\n",
    "else:\n",
    "    print('The tree is not balanced')\n",
    "    "
   ]
  },
  {
   "cell_type": "markdown",
   "metadata": {},
   "source": [
    "# Binary Search Tree\n",
    "\n",
    "- Each node has at max two node children\n",
    "- Called a search tree, because it can be used to search for the presence of a number in O(log(n))\n",
    "\n",
    "1. All nodes of **LEFT SUBTREE** are **LESS THAN THE ROOT NODE**\n",
    "2. All nodes of **RIGHT SUBTREE** are **MORE THAN THE ROOT NODE**\n",
    "\n",
    "3. Both subtrees of each node are also BSTs."
   ]
  },
  {
   "cell_type": "code",
   "execution_count": 2,
   "metadata": {},
   "outputs": [],
   "source": [
    "class Node:\n",
    "    def __init__(self,key):\n",
    "        self.key = key\n",
    "        self.left = None\n",
    "        self.right = None\n",
    "\n",
    "\n",
    "\n",
    "        \n",
    "\n",
    "# Inorder traversal\n",
    "def inorder(root):\n",
    "    if root is not None:\n",
    "        # Traverse left\n",
    "        inorder(root.left)\n",
    "\n",
    "        # Traverse root\n",
    "        print(str(root.key) + \"->\", end=' ')\n",
    "\n",
    "        # Traverse right\n",
    "        inorder(root.right)\n",
    "    "
   ]
  },
  {
   "cell_type": "markdown",
   "metadata": {},
   "source": [
    "## Inserting a Node\n",
    "\n",
    "If node == NULL \n",
    "    return createNode(data)\n",
    "if (data < node->data)\n",
    "    node->left  = insert(node->left, data);\n",
    "else if (data > node->data)\n",
    "    node->right = insert(node->right, data);  \n",
    "return node;"
   ]
  },
  {
   "cell_type": "code",
   "execution_count": 4,
   "metadata": {},
   "outputs": [
    {
     "name": "stdout",
     "output_type": "stream",
     "text": [
      "1-> 3-> 6-> 7-> 8-> 10-> 14-> \n",
      "1-> 3-> 4-> 6-> 7-> 8-> 10-> 14-> "
     ]
    }
   ],
   "source": [
    "def insert(node, key):\n",
    "\n",
    "    if node is None:\n",
    "        return Node(key)\n",
    "\n",
    "    if key < node.key:\n",
    "        node.left = insert(node.left, key)\n",
    "    else:\n",
    "        node.right = insert(node.right, key)\n",
    "\n",
    "    return node\n",
    "\n",
    "\n",
    "root = Node(8)\n",
    "root.left = Node(3)\n",
    "root.left.left = Node(1)\n",
    "root.left.right = Node(6)\n",
    "root.left.right.right = Node(7)\n",
    "\n",
    "root.right = Node(10)\n",
    "root.right.right = Node(14)\n",
    "\n",
    "\n",
    "inorder(root)\n",
    "insert(root,4)\n",
    "print()\n",
    "inorder(root)"
   ]
  },
  {
   "cell_type": "markdown",
   "metadata": {},
   "source": [
    "## Deletion\n",
    "\n",
    "### Case 1: Node to be deleted is a leaf node\n",
    "-   Simply delete the node from the tree.\n",
    "### Case 2: Node to be deleted has a single child node\n",
    "-   Replace node to be deleted with it's child node\n",
    "-   Remove child node from it's original position\n",
    "#### Case 3: Node to be deleted has two children node\n",
    "-   INORDER SUCCESSOR of a node- the smallest node greater  than the given node.\n",
    "-   Get the inorder successor of that node\n",
    "-   Replace node with inorder successor\n",
    "-   Remove inorder successor from original position"
   ]
  },
  {
   "cell_type": "code",
   "execution_count": 11,
   "metadata": {},
   "outputs": [],
   "source": [
    "# Finding the inorder successor\n",
    "\n",
    "def minValueNode(node):\n",
    "    current = node\n",
    "\n",
    "    #Find the leftmost leaf\n",
    "\n",
    "    while(current.left is not None):\n",
    "        current = current.left\n",
    "    return current"
   ]
  },
  {
   "cell_type": "code",
   "execution_count": 14,
   "metadata": {},
   "outputs": [
    {
     "name": "stdout",
     "output_type": "stream",
     "text": [
      "Inorder traversal:  1-> 3-> 4-> 6-> 7-> 8-> 10-> 14-> \n",
      "Delete 10\n",
      "Inorder traversal:  1-> 4-> 6-> 7-> 8-> 10-> 14-> "
     ]
    }
   ],
   "source": [
    "def delete_node(root,key):\n",
    "\n",
    "    # Return if the tree is empty\n",
    "\n",
    "    if root is None:\n",
    "        return root\n",
    "    \n",
    "    if key < root.key:\n",
    "        root.left = delete_node(root.left,key)\n",
    "    \n",
    "    elif key > root.key:\n",
    "        root.right = delete_node(root.right,key)\n",
    "    \n",
    "    else:\n",
    "        \n",
    "\n",
    "        # Single or no node \n",
    "        if root.left is None:\n",
    "            temp = root.right\n",
    "            root = None\n",
    "            return temp\n",
    "        \n",
    "        if root.right is None:\n",
    "            tempp = root.left\n",
    "            root = None\n",
    "            return temp\n",
    "        \n",
    "        # If there are two children\n",
    "        temp = minValueNode(root.right)\n",
    "\n",
    "        root.key = temp.key\n",
    "        root.right = delete_node(root.right,temp.key)\n",
    "\n",
    "    return root\n",
    "\n",
    "\n",
    "\n",
    "root = None\n",
    "root = insert(root, 8)\n",
    "root = insert(root, 3)\n",
    "root = insert(root, 1)\n",
    "root = insert(root, 6)\n",
    "root = insert(root, 7)\n",
    "root = insert(root, 10)\n",
    "root = insert(root, 14)\n",
    "root = insert(root, 4)\n",
    "\n",
    "print(\"Inorder traversal: \", end=' ')\n",
    "inorder(root)\n",
    "\n",
    "print(\"\\nDelete 10\")\n",
    "root = delete_node(root, 3)\n",
    "print(\"Inorder traversal: \", end=' ')\n",
    "inorder(root)"
   ]
  },
  {
   "cell_type": "code",
   "execution_count": null,
   "metadata": {},
   "outputs": [],
   "source": []
  }
 ],
 "metadata": {
  "kernelspec": {
   "display_name": "Python 3.10.4 64-bit",
   "language": "python",
   "name": "python3"
  },
  "language_info": {
   "codemirror_mode": {
    "name": "ipython",
    "version": 3
   },
   "file_extension": ".py",
   "mimetype": "text/x-python",
   "name": "python",
   "nbconvert_exporter": "python",
   "pygments_lexer": "ipython3",
   "version": "3.10.4"
  },
  "orig_nbformat": 4,
  "vscode": {
   "interpreter": {
    "hash": "916dbcbb3f70747c44a77c7bcd40155683ae19c65e1c03b4aa3499c5328201f1"
   }
  }
 },
 "nbformat": 4,
 "nbformat_minor": 2
}
