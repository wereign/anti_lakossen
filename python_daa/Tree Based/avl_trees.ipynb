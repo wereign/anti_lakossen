{
 "cells": [
  {
   "cell_type": "markdown",
   "metadata": {},
   "source": [
    "# AVL Tree.\n",
    "A self balancing binary tree in which each node maintains extra information about a balance factor whose value is either -1, 0 or 1. \n",
    "\n",
    "Balance Factor = Height of Left Subtree - Height of Right Subtree\n",
    "\n",
    "The self balancing of an avl tree is maintained by the balance factor."
   ]
  },
  {
   "cell_type": "markdown",
   "metadata": {},
   "source": [
    "## Operations on an AVL Tree\n",
    "\n",
    "Rotating the subtrees\n",
    "1. Left Rotate\n",
    "2. Right Rotate"
   ]
  },
  {
   "cell_type": "code",
   "execution_count": null,
   "metadata": {},
   "outputs": [],
   "source": []
  }
 ],
 "metadata": {
  "language_info": {
   "name": "python"
  },
  "orig_nbformat": 4
 },
 "nbformat": 4,
 "nbformat_minor": 2
}
