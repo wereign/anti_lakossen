{
 "cells": [
  {
   "cell_type": "code",
   "execution_count": 6,
   "metadata": {},
   "outputs": [
    {
     "name": "stdout",
     "output_type": "stream",
     "text": [
      "1 1 2 3 5 8 13 21 34 55 89 "
     ]
    }
   ],
   "source": [
    "def fib_straight(n):\n",
    "    \"\"\" Assumes n is an int >= 0\n",
    "        Returns Fibonacci of n    \n",
    "    \"\"\"\n",
    "    \n",
    "    if n == 0 or n == 1:\n",
    "        return 1\n",
    "    else:\n",
    "        return fib_straight(n-1) + fib_straight(n-2)\n",
    "\n",
    "\n",
    "for i in range(0,11):\n",
    "    print(fib_straight(i),end=\" \")\n"
   ]
  },
  {
   "cell_type": "code",
   "execution_count": 7,
   "metadata": {},
   "outputs": [
    {
     "data": {
      "text/plain": [
       "664613997892457936451903530140172288"
      ]
     },
     "execution_count": 7,
     "metadata": {},
     "output_type": "execute_result"
    }
   ],
   "source": [
    "def fast_fib(n,memo={}):\n",
    "    \"\"\" Assumes, n is an int >= 0, memo used only by recursive calls\n",
    "    Returns Fibonnaci of n\"\"\"\n",
    "\n",
    "    if n == 0 or n == 1:\n",
    "        return 1\n",
    "    \n",
    "    try:\n",
    "        return memo[n]\n",
    "    except KeyError:\n",
    "        result = fast_fib(n-1,memo) + fast_fib(n-1,memo)\n",
    "        memo[n] = result\n",
    "        return result\n",
    "\n",
    "fast_fib(120)"
   ]
  },
  {
   "cell_type": "markdown",
   "metadata": {},
   "source": [
    "# 0/1 Knapsack Problem"
   ]
  },
  {
   "cell_type": "code",
   "execution_count": 2,
   "metadata": {},
   "outputs": [],
   "source": [
    "class Item:\n",
    "    def __init__(self,n ,v, w):\n",
    "        self.name = n\n",
    "        self.value = v\n",
    "        self.weight = w\n",
    "    \n",
    "    def get_name(self):\n",
    "        return self.name\n",
    "    \n",
    "    def get_value(self):\n",
    "        return self.value\n",
    "    \n",
    "    def get_weight(self):\n",
    "        return self.weight\n",
    "    \n",
    "    def __str__(self):\n",
    "        result = f\"< Name: {self.name}  Value: {self.value} Weight: {self.weight}>\"\n",
    "    "
   ]
  },
  {
   "cell_type": "code",
   "execution_count": 3,
   "metadata": {},
   "outputs": [],
   "source": [
    "def max_val(toConsider, avail):\n",
    "    \"\"\" Assumptions\n",
    "    toConsider: list of items\n",
    "    avail: weight remaining\n",
    "    \"\"\"\n",
    "\n",
    "    if toConsider == [] or avail == 0:\n",
    "        # No more items or full bag\n",
    "        result = (0,())\n",
    "    \n",
    "    elif toConsider[0].get_weight() > avail:\n",
    "        # Exploring right child only\n",
    "        result = max_val(toConsider[1:],avail)\n",
    "    \n",
    "    else:\n",
    "        next_item = toConsider[0]\n",
    "        withVal, withToTake = max_val(toConsider[1:],avail-next_item.get_weight())\n",
    "\n",
    "        # Right branch\n",
    "        withoutVal, withoutToTake = max_val(toConsider[1:],avail)\n",
    "\n",
    "        # Choosing a better branch\n",
    "        \n",
    "        if withVal > withoutVal:\n",
    "            result = (withVal, withToTake + (next_item,))\n",
    "        else:\n",
    "            result = (withoutVal,withoutToTake)\n",
    "    \n",
    "    return result\n"
   ]
  },
  {
   "cell_type": "code",
   "execution_count": null,
   "metadata": {},
   "outputs": [],
   "source": []
  }
 ],
 "metadata": {
  "kernelspec": {
   "display_name": "Python 3.8.10 64-bit",
   "language": "python",
   "name": "python3"
  },
  "language_info": {
   "codemirror_mode": {
    "name": "ipython",
    "version": 3
   },
   "file_extension": ".py",
   "mimetype": "text/x-python",
   "name": "python",
   "nbconvert_exporter": "python",
   "pygments_lexer": "ipython3",
   "version": "3.8.10"
  },
  "orig_nbformat": 4,
  "vscode": {
   "interpreter": {
    "hash": "916dbcbb3f70747c44a77c7bcd40155683ae19c65e1c03b4aa3499c5328201f1"
   }
  }
 },
 "nbformat": 4,
 "nbformat_minor": 2
}
