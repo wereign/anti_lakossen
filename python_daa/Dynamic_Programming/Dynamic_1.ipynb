{
 "cells": [
  {
   "cell_type": "code",
   "execution_count": 6,
   "metadata": {},
   "outputs": [
    {
     "name": "stdout",
     "output_type": "stream",
     "text": [
      "1 1 2 3 5 8 13 21 34 55 89 "
     ]
    }
   ],
   "source": [
    "def fib_straight(n):\n",
    "    \"\"\" Assumes n is an int >= 0\n",
    "        Returns Fibonacci of n    \n",
    "    \"\"\"\n",
    "    \n",
    "    if n == 0 or n == 1:\n",
    "        return 1\n",
    "    else:\n",
    "        return fib_straight(n-1) + fib_straight(n-2)\n",
    "\n",
    "\n",
    "for i in range(0,11):\n",
    "    print(fib_straight(i),end=\" \")\n"
   ]
  },
  {
   "cell_type": "code",
   "execution_count": 7,
   "metadata": {},
   "outputs": [
    {
     "data": {
      "text/plain": [
       "664613997892457936451903530140172288"
      ]
     },
     "execution_count": 7,
     "metadata": {},
     "output_type": "execute_result"
    }
   ],
   "source": [
    "def fast_fib(n,memo={}):\n",
    "    \"\"\" Assumes, n is an int >= 0, memo used only by recursive calls\n",
    "    Returns Fibonnaci of n\"\"\"\n",
    "\n",
    "    if n == 0 or n == 1:\n",
    "        return 1\n",
    "    \n",
    "    try:\n",
    "        return memo[n]\n",
    "    except KeyError:\n",
    "        result = fast_fib(n-1,memo) + fast_fib(n-1,memo)\n",
    "        memo[n] = result\n",
    "        return result\n",
    "\n",
    "fast_fib(120)"
   ]
  },
  {
   "cell_type": "code",
   "execution_count": null,
   "metadata": {},
   "outputs": [],
   "source": []
  }
 ],
 "metadata": {
  "kernelspec": {
   "display_name": "Python 3.8.10 64-bit",
   "language": "python",
   "name": "python3"
  },
  "language_info": {
   "codemirror_mode": {
    "name": "ipython",
    "version": 3
   },
   "file_extension": ".py",
   "mimetype": "text/x-python",
   "name": "python",
   "nbconvert_exporter": "python",
   "pygments_lexer": "ipython3",
   "version": "3.8.10"
  },
  "orig_nbformat": 4,
  "vscode": {
   "interpreter": {
    "hash": "916dbcbb3f70747c44a77c7bcd40155683ae19c65e1c03b4aa3499c5328201f1"
   }
  }
 },
 "nbformat": 4,
 "nbformat_minor": 2
}
