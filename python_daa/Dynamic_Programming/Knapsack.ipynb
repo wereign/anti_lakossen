{
 "cells": [
  {
   "cell_type": "code",
   "execution_count": 9,
   "metadata": {},
   "outputs": [],
   "source": [
    "class Item:\n",
    "    def __init__(self,name,weight,profit):\n",
    "        self.name = name\n",
    "        self.weight = weight\n",
    "        self.profit = profit\n",
    "    def __str__(self):\n",
    "        return f\"OBJECT NAME: {self.name} WEIGHT: {self.weight} PROFIT: {self.profit}\"\n",
    "    __repr__ = __str__\n",
    "        "
   ]
  },
  {
   "cell_type": "code",
   "execution_count": 43,
   "metadata": {},
   "outputs": [
    {
     "name": "stdout",
     "output_type": "stream",
     "text": [
      "OBJECT NAME: Guitar WEIGHT: 1500 PROFIT: 1\n",
      "OBJECT NAME: Laptop WEIGHT: 3 PROFIT: 2000\n",
      "OBJECT NAME: Stereo WEIGHT: 4 PROFIT: 3000\n"
     ]
    }
   ],
   "source": [
    "list_items = [Item(\"Guitar\",1500,1),Item(\"Laptop\",3,2000),Item(\"Stereo\",4,3000)]\n",
    "\n",
    "\n",
    "for item in list_items:\n",
    "    print(item)\n"
   ]
  },
  {
   "cell_type": "code",
   "execution_count": 44,
   "metadata": {},
   "outputs": [
    {
     "name": "stdout",
     "output_type": "stream",
     "text": [
      "[None, None, None, None, None]\n",
      "[None, None, None, None, None]\n",
      "[None, None, None, None, None]\n",
      "[None, None, None, None, None]\n"
     ]
    }
   ],
   "source": [
    "max_weight = 4\n",
    "table = [[None for columns in range(max_weight+1)] for rows in range(len(list_items)+1)]\n",
    "for i in table:\n",
    "    print(i)"
   ]
  },
  {
   "cell_type": "code",
   "execution_count": 45,
   "metadata": {},
   "outputs": [
    {
     "name": "stdout",
     "output_type": "stream",
     "text": [
      "[0, 0, 0, 0, 0]\n",
      "[0, None, None, None, None]\n",
      "[0, None, None, None, None]\n",
      "[None, None, None, None, None]\n"
     ]
    }
   ],
   "source": [
    "# As the starting column will be 0\n",
    "for columns in range(max_weight+1):\n",
    "    table[0][columns] = 0\n",
    "\n",
    "for rows in range(len(list_items)):\n",
    "    table[rows][0] = 0\n",
    "\n",
    "for i in table:\n",
    "    print(i)"
   ]
  },
  {
   "cell_type": "code",
   "execution_count": 46,
   "metadata": {},
   "outputs": [
    {
     "name": "stdout",
     "output_type": "stream",
     "text": [
      "[[0, 0, 0, 0, 0], [0, None, None, None, None], [0, None, None, None, None], [None, None, None, None, None]]\n",
      "[0, None, None, None, None]\n"
     ]
    },
    {
     "ename": "IndexError",
     "evalue": "list index out of range",
     "output_type": "error",
     "traceback": [
      "\u001b[0;31m---------------------------------------------------------------------------\u001b[0m",
      "\u001b[0;31mIndexError\u001b[0m                                Traceback (most recent call last)",
      "Cell \u001b[0;32mIn [46], line 8\u001b[0m\n\u001b[1;32m      6\u001b[0m         w_i \u001b[38;5;241m=\u001b[39m list_items[row\u001b[38;5;241m-\u001b[39m\u001b[38;5;241m1\u001b[39m]\u001b[38;5;241m.\u001b[39mweight\n\u001b[1;32m      7\u001b[0m         p_i \u001b[38;5;241m=\u001b[39m list_items[row\u001b[38;5;241m-\u001b[39m\u001b[38;5;241m1\u001b[39m]\u001b[38;5;241m.\u001b[39mprofit\n\u001b[0;32m----> 8\u001b[0m         table[row][column] \u001b[38;5;241m=\u001b[39m \u001b[38;5;28mmax\u001b[39m(table[row\u001b[38;5;241m-\u001b[39m\u001b[38;5;241m1\u001b[39m][column], p_i \u001b[38;5;241m+\u001b[39m \u001b[43mtable\u001b[49m\u001b[43m[\u001b[49m\u001b[43mrow\u001b[49m\u001b[38;5;241;43m-\u001b[39;49m\u001b[38;5;241;43m1\u001b[39;49m\u001b[43m]\u001b[49m\u001b[43m[\u001b[49m\u001b[43mcolumns\u001b[49m\u001b[38;5;241;43m-\u001b[39;49m\u001b[43mw_i\u001b[49m\u001b[43m]\u001b[49m)\n\u001b[1;32m     10\u001b[0m \u001b[38;5;28mprint\u001b[39m(table)\n",
      "\u001b[0;31mIndexError\u001b[0m: list index out of range"
     ]
    }
   ],
   "source": [
    "# Calculating the rest of the values of the table\n",
    "print(table)\n",
    "for row in range(1,len(list_items)):\n",
    "    print(table[row])\n",
    "    for column in range(1,max_weight+1):\n",
    "        w_i = list_items[row-1].weight\n",
    "        p_i = list_items[row-1].profit\n",
    "        table[row][column] = max(table[row-1][column], p_i + table[row-1][columns-w_i])\n",
    "\n",
    "print(table)"
   ]
  },
  {
   "cell_type": "code",
   "execution_count": null,
   "metadata": {},
   "outputs": [],
   "source": []
  }
 ],
 "metadata": {
  "kernelspec": {
   "display_name": "Python 3.8.10 64-bit",
   "language": "python",
   "name": "python3"
  },
  "language_info": {
   "codemirror_mode": {
    "name": "ipython",
    "version": 3
   },
   "file_extension": ".py",
   "mimetype": "text/x-python",
   "name": "python",
   "nbconvert_exporter": "python",
   "pygments_lexer": "ipython3",
   "version": "3.8.10"
  },
  "orig_nbformat": 4,
  "vscode": {
   "interpreter": {
    "hash": "916dbcbb3f70747c44a77c7bcd40155683ae19c65e1c03b4aa3499c5328201f1"
   }
  }
 },
 "nbformat": 4,
 "nbformat_minor": 2
}
